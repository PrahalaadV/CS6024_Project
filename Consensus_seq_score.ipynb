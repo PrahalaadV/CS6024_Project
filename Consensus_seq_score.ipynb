{
 "cells": [
  {
   "cell_type": "code",
   "execution_count": 2,
   "id": "5199c487",
   "metadata": {},
   "outputs": [
    {
     "name": "stdout",
     "output_type": "stream",
     "text": [
      "Requirement already satisfied: biopython in /Users/ashvitaponnada/opt/anaconda3/lib/python3.9/site-packages (1.83)\n",
      "Requirement already satisfied: numpy in /Users/ashvitaponnada/opt/anaconda3/lib/python3.9/site-packages (from biopython) (1.22.4)\n",
      "Note: you may need to restart the kernel to use updated packages.\n"
     ]
    }
   ],
   "source": [
    "pip install biopython\n"
   ]
  },
  {
   "cell_type": "code",
   "execution_count": 4,
   "id": "5ca7d28b",
   "metadata": {},
   "outputs": [
    {
     "name": "stdout",
     "output_type": "stream",
     "text": [
      "Input a list of HA alignment files\n"
     ]
    }
   ],
   "source": [
    "from Bio import AlignIO\n",
    "from collections import Counter\n",
    "def calculate_consensus (alignment):\n",
    "    consensus_seq = \"\"\n",
    "    consensus_score = 0\n",
    "# Iterate over each position in the alignment\n",
    "    for i in range(alignment.get_alignment_length()):\n",
    "        # Extract characters at position i for all sequences\n",
    "        column = alignment[:, i]\n",
    "\n",
    "        # Count the occurrences of each character\n",
    "        counts = Counter(column)\n",
    "\n",
    "        # Get the most common character\n",
    "        most_common_char = counts.most_common(1)[0][0]\n",
    "\n",
    "        # Append the most common character to the consensus sequence\n",
    "        consensus_seq += most_common_char\n",
    "\n",
    "        for seq in alignment:\n",
    "            seq_char = seq[i]\n",
    "            if most_common_char == seq_char:\n",
    "                consensus_score += 0\n",
    "            elif '-' in [most_common_char, seq_char]:\n",
    "                consensus_score += 1.5\n",
    "            elif (most_common_char in \"AG\" and seq_char in \"AG\") or (most_common_char in \"CT\" and seq_char in \"CT\"):\n",
    "                consensus_score += 2\n",
    "            else:\n",
    "                consensus_score += 3\n",
    "        values = [consensus_seq, consensus_score]\n",
    "    return values\n",
    "\n",
    "def write_consensus_to_file(file_name, consensus_seq):\n",
    "    with open(\"consensus_sequences_HA_final.txt\", \"a\") as f:\n",
    "        f.write(f\"File Name: {file_name}\\n\")\n",
    "        f.write(f\"Consensus Sequence: {consensus_seq}\\n\\n\")\n",
    "def write_scores_to_file(file_name, consensus_score):\n",
    "    with open(\"consensus_scores_HA_final.txt\", \"a\") as f:\n",
    "        f.write(f\"File Name: {file_name}\\n\")\n",
    "        f.write(f\"Consensus Score: {consensus_score}\\n\\n\")\n",
    "\n",
    "input_files = input(\"Input a list of HA alignment files\")\n",
    "for file_name in input_files:\n",
    "    alignment = AlignIO.read(file_name, \"fasta\")\n",
    "    consensus_seq, consensus_score = calculate_consensus(alignment)\n",
    "    write_consensus_to_file(file_name, consensus_seq)\n",
    "    write_scores_to_file(file_name, consensus_score)"
   ]
  },
  {
   "cell_type": "code",
   "execution_count": null,
   "id": "37becc9d",
   "metadata": {},
   "outputs": [],
   "source": [
    "from Bio import AlignIO\n",
    "from collections import Counter\n",
    "def calculate_consensus (alignment):\n",
    "    consensus_seq = \"\"\n",
    "    consensus_score = 0\n",
    "# Iterate over each position in the alignment\n",
    "    for i in range(alignment.get_alignment_length()):\n",
    "        # Extract characters at position i for all sequences\n",
    "        column = alignment[:, i]\n",
    "\n",
    "        # Count the occurrences of each character\n",
    "        counts = Counter(column)\n",
    "\n",
    "        # Get the most common character\n",
    "        most_common_char = counts.most_common(1)[0][0]\n",
    "\n",
    "        # Append the most common character to the consensus sequence\n",
    "        consensus_seq += most_common_char\n",
    "\n",
    "        for seq in alignment:\n",
    "            seq_char = seq[i]\n",
    "            if most_common_char == seq_char:\n",
    "                consensus_score += 0\n",
    "            elif '-' in [most_common_char, seq_char]:\n",
    "                consensus_score += 1.5\n",
    "            elif (most_common_char in \"AG\" and seq_char in \"AG\") or (most_common_char in \"CT\" and seq_char in \"CT\"):\n",
    "                consensus_score += 2\n",
    "            else:\n",
    "                consensus_score += 3\n",
    "        values = [consensus_seq, consensus_score]\n",
    "    return values\n",
    "\n",
    "def write_consensus_to_file(file_name, consensus_seq):\n",
    "    with open(\"consensus_sequences_NA_final.txt\", \"a\") as f:\n",
    "        f.write(f\"File Name: {file_name}\\n\")\n",
    "        f.write(f\"Consensus Sequence: {consensus_seq}\\n\\n\")\n",
    "def write_scores_to_file(file_name, consensus_score):\n",
    "    with open(\"consensus_scores_NA_final.txt\", \"a\") as f:\n",
    "        f.write(f\"File Name: {file_name}\\n\")\n",
    "        f.write(f\"Consensus Score: {consensus_score}\\n\\n\")\n",
    "\n",
    "input_files = input(\"Input a list of NA alignment files\")\n",
    "for file_name in input_files:\n",
    "    alignment = AlignIO.read(file_name, \"fasta\")\n",
    "    consensus_seq, consensus_score = calculate_consensus(alignment)\n",
    "    write_consensus_to_file(file_name, consensus_seq)\n",
    "    write_scores_to_file(file_name, consensus_score)"
   ]
  }
 ],
 "metadata": {
  "kernelspec": {
   "display_name": "Python 3 (ipykernel)",
   "language": "python",
   "name": "python3"
  },
  "language_info": {
   "codemirror_mode": {
    "name": "ipython",
    "version": 3
   },
   "file_extension": ".py",
   "mimetype": "text/x-python",
   "name": "python",
   "nbconvert_exporter": "python",
   "pygments_lexer": "ipython3",
   "version": "3.9.12"
  }
 },
 "nbformat": 4,
 "nbformat_minor": 5
}
